{
 "cells": [
  {
   "cell_type": "code",
   "execution_count": 1,
   "metadata": {},
   "outputs": [
    {
     "name": "stdout",
     "output_type": "stream",
     "text": [
      "✅ Cleaned dataset saved as: oil_prices_last_10_days_cleaned.csv\n"
     ]
    }
   ],
   "source": [
    "import pandas as pd\n",
    "import re\n",
    "\n",
    "# Load the uncleaned dataset\n",
    "input_file = \"oil_prices_last_10_days.csv\"  # Update this if needed\n",
    "output_file = \"oil_prices_last_10_days_cleaned.csv\"\n",
    "\n",
    "# Read dataset\n",
    "df = pd.read_csv(input_file)\n",
    "\n",
    "# Function to clean values (remove ticker metadata)\n",
    "def clean_value(value):\n",
    "    if isinstance(value, str):  # Ensure it's a string before cleaning\n",
    "        value = re.sub(r\"Ticker\\s+\\S+\\s+\", \"\", value)  # Remove \"Ticker XYZ\"\n",
    "        value = re.sub(r\"Name:.*\", \"\", value)  # Remove unwanted text after \"Name:\"\n",
    "        try:\n",
    "            return float(value.strip())  # Convert cleaned string to float\n",
    "        except ValueError:\n",
    "            return None  # Return None if conversion fails\n",
    "    return value\n",
    "\n",
    "# Apply cleaning to relevant columns\n",
    "df[\"Closing Price\"] = df[\"Closing Price\"].apply(clean_value)\n",
    "df[\"Volume Sold\"] = df[\"Volume Sold\"].apply(clean_value)\n",
    "\n",
    "# Save cleaned data\n",
    "df.to_csv(output_file, index=False)\n",
    "\n",
    "print(f\"✅ Cleaned dataset saved as: {output_file}\")\n"
   ]
  }
 ],
 "metadata": {
  "kernelspec": {
   "display_name": "base",
   "language": "python",
   "name": "python3"
  },
  "language_info": {
   "codemirror_mode": {
    "name": "ipython",
    "version": 3
   },
   "file_extension": ".py",
   "mimetype": "text/x-python",
   "name": "python",
   "nbconvert_exporter": "python",
   "pygments_lexer": "ipython3",
   "version": "3.12.7"
  }
 },
 "nbformat": 4,
 "nbformat_minor": 2
}
