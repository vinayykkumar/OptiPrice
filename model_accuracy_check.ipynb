{
 "cells": [
  {
   "cell_type": "code",
   "execution_count": 3,
   "metadata": {},
   "outputs": [
    {
     "name": "stderr",
     "output_type": "stream",
     "text": [
      "C:\\Users\\Admin\\AppData\\Local\\Temp\\ipykernel_1376\\2862509771.py:41: FutureWarning: DataFrame.fillna with 'method' is deprecated and will raise in a future version. Use obj.ffill() or obj.bfill() instead.\n",
      "  df.fillna(method=\"ffill\", inplace=True)  # Forward-fill missing data\n"
     ]
    },
    {
     "name": "stdout",
     "output_type": "stream",
     "text": [
      "✅ XGBoost - MAE: 0.16, R² Score: 1.00\n",
      "🚀 Model training & evaluation completed. Results saved!\n"
     ]
    }
   ],
   "source": [
    "import pandas as pd\n",
    "import numpy as np\n",
    "from sklearn.model_selection import train_test_split\n",
    "from sklearn.preprocessing import StandardScaler\n",
    "from sklearn.ensemble import RandomForestRegressor, GradientBoostingRegressor\n",
    "from sklearn.linear_model import LinearRegression\n",
    "from sklearn.svm import SVR\n",
    "from xgboost import XGBRegressor\n",
    "from sklearn.metrics import mean_absolute_error, r2_score\n",
    "\n",
    "# ============================\n",
    "# 🔹 1️⃣ Load & Merge Datasets\n",
    "# ============================\n",
    "\n",
    "# Load Historical Dataset\n",
    "historical_path = r\"oil and gas.csv\"\n",
    "df_historical = pd.read_csv(historical_path)\n",
    "\n",
    "# Load Competitor Dataset\n",
    "competitor_path = r\"competitor-dataset.csv\"\n",
    "df_competitor = pd.read_csv(competitor_path)\n",
    "\n",
    "# Load Scraped Real-Time Prices\n",
    "scraped_prices_path = r\"scraped_oil_prices.csv\"\n",
    "df_scraped = pd.read_csv(scraped_prices_path)\n",
    "\n",
    "# Merge datasets on Date & Symbol\n",
    "df = pd.merge(df_historical, df_competitor, on=[\"Date\", \"Symbol\"], how=\"left\")\n",
    "df = pd.merge(df, df_scraped, on=[\"Date\", \"Symbol\"], how=\"left\")\n",
    "\n",
    "# ============================\n",
    "# 🔹 2️⃣ Feature Selection\n",
    "# ============================\n",
    "\n",
    "# Ensure critical columns exist\n",
    "for col in [\"Closing Price\", \"Selling Price\", \"Volume Sold\"]:\n",
    "    if col not in df.columns:\n",
    "        df[col] = np.nan  # Assign NaN if missing\n",
    "\n",
    "# Fill missing values\n",
    "df.fillna(method=\"ffill\", inplace=True)  # Forward-fill missing data\n",
    "df.fillna(0, inplace=True)  # Replace remaining NaNs with 0\n",
    "\n",
    "# Define Features (X) and Target (y)\n",
    "features = [\"Closing Price\", \"Selling Price\", \"Volume Sold\"]\n",
    "target = \"Selling Price\"\n",
    "\n",
    "X = df[features]\n",
    "y = df[target]\n",
    "\n",
    "# Split into Train-Test (80-20)\n",
    "X_train, X_test, y_train, y_test = train_test_split(X, y, test_size=0.2, random_state=42)\n",
    "\n",
    "# Normalize Features\n",
    "scaler = StandardScaler()\n",
    "X_train_scaled = scaler.fit_transform(X_train)\n",
    "X_test_scaled = scaler.transform(X_test)\n",
    "\n",
    "# ============================\n",
    "# 🔹 3️⃣ Train & Evaluate ML Models (Now 5 Models)\n",
    "# ============================\n",
    "\n",
    "models = {\n",
    "    # \"Linear Regression\": LinearRegression(),\n",
    "    # \"Random Forest\": RandomForestRegressor(n_estimators=100, random_state=42),\n",
    "    \"XGBoost\": XGBRegressor(n_estimators=100, random_state=42),\n",
    "    # \"Support Vector Regression (SVR)\": SVR(kernel='rbf', C=100, gamma=0.1),\n",
    "    # \"Gradient Boosting\": GradientBoostingRegressor(n_estimators=100, random_state=42)\n",
    "}\n",
    "\n",
    "results = []\n",
    "\n",
    "for model_name, model in models.items():\n",
    "    model.fit(X_train_scaled, y_train)\n",
    "    y_pred = model.predict(X_test_scaled)\n",
    "    \n",
    "    # Evaluate Model\n",
    "    mae = mean_absolute_error(y_test, y_pred)\n",
    "    r2 = r2_score(y_test, y_pred)\n",
    "    \n",
    "    results.append({\"Model\": model_name, \"MAE\": mae, \"R² Score\": r2})\n",
    "    print(f\"✅ {model_name} - MAE: {mae:.2f}, R² Score: {r2:.2f}\")\n",
    "\n",
    "# Convert results to DataFrame & Save\n",
    "df_results = pd.DataFrame(results)\n",
    "df_results.to_csv(r\"model_performance.csv\", index=False)\n",
    "\n",
    "print(\"🚀 Model training & evaluation completed. Results saved!\")\n"
   ]
  }
 ],
 "metadata": {
  "kernelspec": {
   "display_name": "base",
   "language": "python",
   "name": "python3"
  },
  "language_info": {
   "codemirror_mode": {
    "name": "ipython",
    "version": 3
   },
   "file_extension": ".py",
   "mimetype": "text/x-python",
   "name": "python",
   "nbconvert_exporter": "python",
   "pygments_lexer": "ipython3",
   "version": "3.12.7"
  }
 },
 "nbformat": 4,
 "nbformat_minor": 2
}
